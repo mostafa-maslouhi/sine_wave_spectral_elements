{
 "cells": [
  {
   "cell_type": "markdown",
   "metadata": {},
   "source": [
    "## 1. Import the necessary libraries "
   ]
  },
  {
   "cell_type": "code",
   "execution_count": 1,
   "metadata": {},
   "outputs": [],
   "source": [
    "import matplotlib.pyplot as plt\n",
    "from matplotlib import pyplot\n",
    "import numpy as np\n",
    "\n",
    "#import widget to make some dynamics\n",
    "from  ipywidgets import interact, interactive, fixed, interact_manual \n",
    "import ipywidgets as widgets \n",
    "\n",
    "#from IPython.display import display\n",
    "\n",
    "%matplotlib inline\n",
    "\n",
    "pi=np.pi"
   ]
  },
  {
   "cell_type": "markdown",
   "metadata": {},
   "source": [
    "## 2. Define the function that will draw our sine wave and connect it to the interaction"
   ]
  },
  {
   "cell_type": "code",
   "execution_count": 2,
   "metadata": {},
   "outputs": [
    {
     "data": {
      "application/vnd.jupyter.widget-view+json": {
       "model_id": "ea68f48638304757a6101eee343d8ace",
       "version_major": 2,
       "version_minor": 0
      },
      "text/plain": [
       "interactive(children=(FloatSlider(value=2.0, description='f', max=4.0, min=1.0, step=0.5), FloatSlider(value=0…"
      ]
     },
     "metadata": {},
     "output_type": "display_data"
    },
    {
     "data": {
      "text/plain": [
       "<function __main__.draw_sinewave(f, phi, A, Color)>"
      ]
     },
     "execution_count": 2,
     "metadata": {},
     "output_type": "execute_result"
    }
   ],
   "source": [
    "# f : frequencey of the signal to be sampled : Here 1 Hz\n",
    "# phi: phase\n",
    "# A: magnitude\n",
    "\n",
    "def draw_sinewave(f,phi,A,Color):\n",
    "    T= 1\n",
    "    d=200\n",
    "    t = np.linspace(0,T,d)\n",
    "    \n",
    "    # We define our three signals: The continuous, sampled and an alias\n",
    "    xc = A*np.sin(2*pi*f*t+phi)  # continuous signal\n",
    "   \n",
    "    # Figure\n",
    "    fig, ax1 = plt.subplots(1,figsize=(8,6))\n",
    "    \n",
    "    ax1.clear() # clear the previous figure\n",
    "    \n",
    "    ax1.grid(True, which=\"both\")\n",
    "\n",
    "   \n",
    "    banner = 'f= {}, phi={}, A={}'.format(f,round(phi,2),A)\n",
    "    ax1.plot(t, xc, Color,label=banner)\n",
    "    plt.xlim(0, T)\n",
    "    plt.ylim(- 1.2, 1.2)\n",
    "    plt.legend(loc=\"upper right\")\n",
    "    plt.show()\n",
    "\n",
    "interact(draw_sinewave,f=(1,4,0.5),phi=(0.0,pi/2,0.4),A=(0.1,1,0.1),Color=['red','blue','green'])"
   ]
  }
 ],
 "metadata": {
  "kernelspec": {
   "display_name": "Python 3",
   "language": "python",
   "name": "python3"
  },
  "language_info": {
   "codemirror_mode": {
    "name": "ipython",
    "version": 3
   },
   "file_extension": ".py",
   "mimetype": "text/x-python",
   "name": "python",
   "nbconvert_exporter": "python",
   "pygments_lexer": "ipython3",
   "version": "3.8.2"
  }
 },
 "nbformat": 4,
 "nbformat_minor": 4
}
